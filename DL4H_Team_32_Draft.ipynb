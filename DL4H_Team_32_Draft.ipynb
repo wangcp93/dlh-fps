{
 "cells": [
  {
   "cell_type": "markdown",
   "metadata": {
    "id": "MQ0sNuMePBXx"
   },
   "source": [
    "# Introduction\n",
    "\n",
    "This work reproduces the original paper from Duvenaud, *et. al.* on the development of convolutional neural networks applied on molecular graphs that generate molecular fingerprints (i.e., embeddings) for downstream property prediction. Citation to the original paper [1]:\n",
    "\n",
    "Duvenaud, D. K., Maclaurin, D., Iparraguirre, J., Bombarell, R., Hirzel, T., Aspuru-Guzik, A., and Adams, R. P. (2015) Convolutional networks on graphs for learning molecular fingerprints. *Advances in Neural Information Processing Systems*, 2224-2232.\n",
    "\n",
    "The Github repository to this replication work can be found at [https://github.com/wangcp93/dlh-fps](https://github.com/wangcp93/dlh-fps)\n",
    "\n",
    "## General Problem\n",
    "\n",
    "This paper aims at learning molecular features using molecule graphs of arbitrary size and shape as inputs. This is an important problem in drug discovery because molecular feature extraction is the foundation for downstream tasks, such as molecular property prediction. The main challenge of this problem is to realize end-to-end learning, i.e., using molecule graphs as the direct inputs rather than converting them to fixed-size inputs via predefined rules.\n",
    "\n",
    "Before this paper, the state of the art was to use extended-connectivity circular fingerprints (ECFP) of molecules [2], which are fixed-dimensional multi-hot vectors relying on hand-crafted features. These vectors are often very high-dimensional but sparse. Also, they are fixed regardless of downstream tasks, so the predictive power is limited in many tasks.\n",
    "\n",
    "## Approach to the Problem\n",
    "\n",
    "This paper generalizes the circular fingerprints to “neural fingerprints”, which are optimizable based on downstream tasks and data. To facilitate the training, this method replaces several non-differentiable operations to a differentiable neural network. By doing so, the model can be trained in an end-to-end manner directly from molecule graphs. Specifically, in each layer:\n",
    "\n",
    "* A smooth activation function replaces the hashing operation to combine information from the neighborhood of each atom.\n",
    "* A softmax function replaces the indexing (argmax) operation to sparsify each atom’s feature vector.\n",
    "* A real-valued fingerprint vector replaces the binary vector to better preserve similarity information between substructures.\n",
    "\n",
    "This paper demonstrated that, compared with circular fingerprints, the neural fingerprints are more interpretable, and the predictive errors on 3 downstream tasks (solubility, drug efficacy, photovoltaic efficiency) can be much lower.\n",
    "Such approach applies the same operation locally everywhere and combines information in a global pooling step, which resembles a convolutional network. In fact, though not explicitly, this paper was the first that proposed the idea of graph convolutional network (GCN)."
   ]
  },
  {
   "cell_type": "markdown",
   "metadata": {
    "id": "uygL9tTPSVHB"
   },
   "source": [
    "# Scope of Reproducibility:\n",
    "\n",
    "## Hypothesis Testing\n",
    "\n",
    "The folliwing hypotheses from the paper will be tested in this work:\n",
    "\n",
    "1. Hypothesis 1: Data-driven neural fingerprints achieve greater predictive performances than fixed circular fingerprints.\n",
    "\n",
    "2. Hypothesis 2: Circular fingerprints are a special case of neural fingerprints by having large random weights.\n",
    "\n",
    "To test the first hypothesis, this work will replicate the studies on 3 downstream tasks provided in the paper (solubility, drug efficacy, and photovoltaic efficacy) to evaluate the model performance.\n",
    "\n",
    "To test the second hypothesis, this work will replicate the training of the model using large and small random weights, respectively, to show that the former achieves similar performance as circular fingerprints, while the latter gives better results.\n",
    "\n",
    "\n",
    "## Ablation Study\n",
    "\n",
    "Key differences between the neural fingerprints and circular fingerprints are the use of (a) a neural network instead of a hashing operation, and (b) a softmax function to give a real-valued vector instead of an indexing operation to give a binary vector. While (a) is the main contribution, its ablation is challenging due to the non-differentiable nature of the hashing operation. Here, I propose ablation study on (b). Specifically:\n",
    "\n",
    "* After the neural network layer, use a global max pooling followed by normalization to mimic the indexing operation (instead of softmax) that generates binary vectors as fingerprints.\n",
    "\n",
    "This is to assess whether real-valued fingerprint vectors are advantageous compared with binary vectors. If it makes minimal difference in predictive performance, it supports the main conclusion that data-driven features are superior to fixed features, even if some components are suboptimal."
   ]
  },
  {
   "cell_type": "markdown",
   "metadata": {
    "id": "xWAHJ_1CdtaA"
   },
   "source": [
    "# Methodology\n",
    "\n",
    "The necessary packages are imported below, and the seed is set."
   ]
  },
  {
   "cell_type": "code",
   "execution_count": 1,
   "metadata": {},
   "outputs": [],
   "source": [
    "# Import packages\n",
    "import numpy as np\n",
    "import pandas as pd\n",
    "import random\n",
    "import os\n",
    "import torch\n",
    "import torch.nn as nn\n",
    "import matplotlib.pyplot as plt\n",
    "from sklearn.model_selection import train_test_split\n",
    "from sklearn.metrics import root_mean_squared_error\n",
    "\n",
    "# Import helper codes from the authors\n",
    "import sys\n",
    "sys.path.append(\"neuralfingerprint\")\n",
    "\n",
    "# Converts smiles to mol graphs and extract atom and bond features\n",
    "from mol_graph import graph_from_smiles_tuple\n",
    "\n",
    "# Import the atom and bond feature length for building the model\n",
    "from features import num_features"
   ]
  },
  {
   "cell_type": "code",
   "execution_count": 2,
   "metadata": {},
   "outputs": [],
   "source": [
    "# set seed\n",
    "seed = 123\n",
    "random.seed(seed)\n",
    "np.random.seed(seed)\n",
    "torch.manual_seed(seed)\n",
    "os.environ[\"PYTHONHASHSEED\"] = str(seed)"
   ]
  },
  {
   "cell_type": "markdown",
   "metadata": {},
   "source": [
    "## Data\n",
    "\n",
    "This paper uses 3 datasets for training and performance evaluation:\n",
    "\n",
    "* Solubility: The aqueous solubility of ~1100 organic molecules, measured in mols per litre in log scale [3].\n",
    "* Drug efficacy: The half-maximal effective concentration (EC<sub>50</sub>) in vitro in log scale of ~10,000 molecules against a sulfide-resistant strain of *P. falciparum*, the parasite that causes malaria [4].\n",
    "* Organic photovoltaic efficiency: The DFT-simulated photovoltaic efficiency of ~30,000 organic molecules from the Harvard Clean Energy Project [5].\n",
    "\n",
    "All the data have been provided by the authors as csv files. Because of the small sizes, they are directly accessed from local folders. The smiles strings are used as the direct inputs to the model without preprocessing at this stage.\n",
    "\n",
    "### Molecular Features\n",
    "\n",
    "All the molecules are represented by a SMILES string. The paper processes the molecules using rdkit and self-defined methods in `mol_graph.py` to generate molecular graphs and extract features. The features include atom features and bond features defined in `features.py`. Specifically:\n",
    "\n",
    "* Initial atom features concatenate a one-hot encoding of the atom’s element, its degree, the number of attached hydrogen atoms, the implicit valence, and an aromaticity indicator.\n",
    "* The bond features are a concatenation of whether the bond type was single, double, triple, or aromatic, whether the bond was conjugated, and whether the bond was part of a ring.\n",
    "\n",
    "The feature vector lengths are shown below."
   ]
  },
  {
   "cell_type": "code",
   "execution_count": 3,
   "metadata": {},
   "outputs": [
    {
     "name": "stdout",
     "output_type": "stream",
     "text": [
      "atom feature vector length: 62\n",
      "bond feature vector length: 6\n"
     ]
    }
   ],
   "source": [
    "atom_feature_size, bond_feature_size = num_features()\n",
    "print(\"atom feature vector length:\", atom_feature_size)\n",
    "print(\"bond feature vector length:\", bond_feature_size)"
   ]
  },
  {
   "cell_type": "markdown",
   "metadata": {},
   "source": [
    "### Load datasets\n",
    "\n",
    "Below the 3 datasets are loaded separately. Some helper functions are defined below."
   ]
  },
  {
   "cell_type": "code",
   "execution_count": 4,
   "metadata": {},
   "outputs": [],
   "source": [
    "# Data direction\n",
    "data_dir = 'data'\n",
    "\n",
    "# Define validation and test ratio\n",
    "val_ratio = 0.1\n",
    "test_ratio = 0.1\n",
    "\n",
    "# Load data as a Pandas data frame\n",
    "def load_data(data_dir, data_file, target_name):\n",
    "    df = pd.read_csv(f\"{data_dir}/{data_file}\")[[\"smiles\", target_name]]\n",
    "    df.rename(columns={target_name: \"label\"}, inplace = True)\n",
    "    return df\n",
    "\n",
    "# calculate statistics and plot histogram for the label distribution\n",
    "def print_label_statistics(data_df, target_name):\n",
    "    label = data_df[\"label\"]\n",
    "    \n",
    "    # Generate statistics\n",
    "    print(\"Count:\", len(label))\n",
    "    print(\"Mean:\", f\"{label.mean():.2f}\")\n",
    "    print(\"Stdev:\", f\"{label.std():.2f}\")\n",
    "    print(\"Median:\", f\"{label.median():.2f}\")\n",
    "    print(\"Max:\", f\"{label.max():.2f}\")\n",
    "    print(\"Min:\", f\"{label.min():.2f}\")\n",
    "    \n",
    "    # Generate histogram\n",
    "    plt.figure(figsize = (4, 3))\n",
    "    label.plot.hist(bins = 10)\n",
    "    plt.title(f'Histogram of {target_name}')\n",
    "    plt.xlabel(target_name)\n",
    "    plt.ylabel('Frequency')\n",
    "    plt.grid(True)\n",
    "    plt.show()\n"
   ]
  },
  {
   "cell_type": "markdown",
   "metadata": {
    "id": "2NbPHUTMbkD3"
   },
   "source": [
    "### 1. Solubility Dataset\n",
    "\n",
    "The Solubility dataset is imported below:"
   ]
  },
  {
   "cell_type": "code",
   "execution_count": 5,
   "metadata": {
    "id": "BZScZNbROw-N"
   },
   "outputs": [
    {
     "data": {
      "text/html": [
       "<div>\n",
       "<style scoped>\n",
       "    .dataframe tbody tr th:only-of-type {\n",
       "        vertical-align: middle;\n",
       "    }\n",
       "\n",
       "    .dataframe tbody tr th {\n",
       "        vertical-align: top;\n",
       "    }\n",
       "\n",
       "    .dataframe thead th {\n",
       "        text-align: right;\n",
       "    }\n",
       "</style>\n",
       "<table border=\"1\" class=\"dataframe\">\n",
       "  <thead>\n",
       "    <tr style=\"text-align: right;\">\n",
       "      <th></th>\n",
       "      <th>smiles</th>\n",
       "      <th>label</th>\n",
       "    </tr>\n",
       "  </thead>\n",
       "  <tbody>\n",
       "    <tr>\n",
       "      <th>0</th>\n",
       "      <td>OCC3OC(OCC2OC(OC(C#N)c1ccccc1)C(O)C(O)C2O)C(O)...</td>\n",
       "      <td>-0.77</td>\n",
       "    </tr>\n",
       "    <tr>\n",
       "      <th>1</th>\n",
       "      <td>Cc1occc1C(=O)Nc2ccccc2</td>\n",
       "      <td>-3.30</td>\n",
       "    </tr>\n",
       "    <tr>\n",
       "      <th>2</th>\n",
       "      <td>CC(C)=CCCC(C)=CC(=O)</td>\n",
       "      <td>-2.06</td>\n",
       "    </tr>\n",
       "    <tr>\n",
       "      <th>3</th>\n",
       "      <td>c1ccc2c(c1)ccc3c2ccc4c5ccccc5ccc43</td>\n",
       "      <td>-7.87</td>\n",
       "    </tr>\n",
       "    <tr>\n",
       "      <th>4</th>\n",
       "      <td>c1ccsc1</td>\n",
       "      <td>-1.33</td>\n",
       "    </tr>\n",
       "  </tbody>\n",
       "</table>\n",
       "</div>"
      ],
      "text/plain": [
       "                                              smiles  label\n",
       "0  OCC3OC(OCC2OC(OC(C#N)c1ccccc1)C(O)C(O)C2O)C(O)...  -0.77\n",
       "1                             Cc1occc1C(=O)Nc2ccccc2  -3.30\n",
       "2                               CC(C)=CCCC(C)=CC(=O)  -2.06\n",
       "3                 c1ccc2c(c1)ccc3c2ccc4c5ccccc5ccc43  -7.87\n",
       "4                                            c1ccsc1  -1.33"
      ]
     },
     "execution_count": 5,
     "metadata": {},
     "output_type": "execute_result"
    }
   ],
   "source": [
    "sol_df = load_data(data_dir, data_file = 'delaney.csv',\n",
    "                   target_name = 'measured log solubility in mols per litre')\n",
    "sol_df.head()"
   ]
  },
  {
   "cell_type": "markdown",
   "metadata": {},
   "source": [
    "The dataset is split into training, validation and test sets. The test set is saved for the final evaluation, while the training and validation sets are used during training. In each epoch, the data set is shuffled, and the validation set is regenerated randomly. Below the test set is split and saved:"
   ]
  },
  {
   "cell_type": "code",
   "execution_count": 6,
   "metadata": {},
   "outputs": [
    {
     "name": "stdout",
     "output_type": "stream",
     "text": [
      "Dataset size: 1128\n",
      "Test set size: 113\n"
     ]
    }
   ],
   "source": [
    "# Splitting into train+val and test sets. Save the test set for final evaluation\n",
    "sol_train_val_df, sol_test_df = train_test_split(sol_df, test_size = test_ratio, random_state = seed)\n",
    "\n",
    "print(\"Dataset size:\", sol_df.shape[0])\n",
    "print(\"Test set size:\", sol_test_df.shape[0] )"
   ]
  },
  {
   "cell_type": "markdown",
   "metadata": {},
   "source": [
    "Statistics of the log solubility of molecules are shown below."
   ]
  },
  {
   "cell_type": "code",
   "execution_count": 7,
   "metadata": {},
   "outputs": [
    {
     "name": "stdout",
     "output_type": "stream",
     "text": [
      "Count: 1128\n",
      "Mean: -3.05\n",
      "Stdev: 2.10\n",
      "Median: -2.86\n",
      "Max: 1.58\n",
      "Min: -11.60\n"
     ]
    },
    {
     "data": {
      "image/png": "[encoded data removed]",
      "text/plain": [
       "<Figure size 400x300 with 1 Axes>"
      ]
     },
     "metadata": {},
     "output_type": "display_data"
    }
   ],
   "source": [
    "print_label_statistics(sol_df, 'measured log solubility in mols per litre')"
   ]
  },
  {
   "cell_type": "markdown",
   "metadata": {},
   "source": [
    "### 2. Drug Efficacy Dataset\n",
    "\n",
    "The Drug Efficacy dataset is imported below, followed by train/test split and statistics review."
   ]
  },
  {
   "cell_type": "code",
   "execution_count": 8,
   "metadata": {},
   "outputs": [
    {
     "data": {
      "text/html": [
       "<div>\n",
       "<style scoped>\n",
       "    .dataframe tbody tr th:only-of-type {\n",
       "        vertical-align: middle;\n",
       "    }\n",
       "\n",
       "    .dataframe tbody tr th {\n",
       "        vertical-align: top;\n",
       "    }\n",
       "\n",
       "    .dataframe thead th {\n",
       "        text-align: right;\n",
       "    }\n",
       "</style>\n",
       "<table border=\"1\" class=\"dataframe\">\n",
       "  <thead>\n",
       "    <tr style=\"text-align: right;\">\n",
       "      <th></th>\n",
       "      <th>smiles</th>\n",
       "      <th>label</th>\n",
       "    </tr>\n",
       "  </thead>\n",
       "  <tbody>\n",
       "    <tr>\n",
       "      <th>0</th>\n",
       "      <td>Cc1nc2cc(ccc2[nH]1)c3ccc4[nH]c(C)nc4c3</td>\n",
       "      <td>0.738598</td>\n",
       "    </tr>\n",
       "    <tr>\n",
       "      <th>1</th>\n",
       "      <td>CN(C1CCN(C)C1)c2cc(C)nc(Nc3ccc(Cl)cc3)n2</td>\n",
       "      <td>-1.090085</td>\n",
       "    </tr>\n",
       "    <tr>\n",
       "      <th>2</th>\n",
       "      <td>CN(C)CCCOc1cc(NC(=O)Nc2ccc(c3ccncc3)c4ccccc24)...</td>\n",
       "      <td>-0.358682</td>\n",
       "    </tr>\n",
       "    <tr>\n",
       "      <th>3</th>\n",
       "      <td>COc1ccc(cc1CSc2nc3ccccc3[nH]2)C4NCCc5c4[nH]c6c...</td>\n",
       "      <td>0.561329</td>\n",
       "    </tr>\n",
       "    <tr>\n",
       "      <th>4</th>\n",
       "      <td>CCN1C(=Nc2sc3CN(C)CCc3c2C1=O)SCc4ccc(F)cc4</td>\n",
       "      <td>-1.371137</td>\n",
       "    </tr>\n",
       "  </tbody>\n",
       "</table>\n",
       "</div>"
      ],
      "text/plain": [
       "                                              smiles     label\n",
       "0             Cc1nc2cc(ccc2[nH]1)c3ccc4[nH]c(C)nc4c3  0.738598\n",
       "1           CN(C1CCN(C)C1)c2cc(C)nc(Nc3ccc(Cl)cc3)n2 -1.090085\n",
       "2  CN(C)CCCOc1cc(NC(=O)Nc2ccc(c3ccncc3)c4ccccc24)... -0.358682\n",
       "3  COc1ccc(cc1CSc2nc3ccccc3[nH]2)C4NCCc5c4[nH]c6c...  0.561329\n",
       "4         CCN1C(=Nc2sc3CN(C)CCc3c2C1=O)SCc4ccc(F)cc4 -1.371137"
      ]
     },
     "execution_count": 8,
     "metadata": {},
     "output_type": "execute_result"
    }
   ],
   "source": [
    "eff_df = load_data(data_dir, data_file = 'malaria.csv', target_name = 'activity')\n",
    "eff_df.head()"
   ]
  },
  {
   "cell_type": "code",
   "execution_count": 9,
   "metadata": {},
   "outputs": [
    {
     "name": "stdout",
     "output_type": "stream",
     "text": [
      "Dataset size: 9999\n",
      "Test set size: 1000\n"
     ]
    }
   ],
   "source": [
    "# Splitting into train+val and test sets. Save the test set for final evaluation\n",
    "eff_train_val_df, eff_test_df = train_test_split(eff_df, test_size = test_ratio, random_state = seed)\n",
    "\n",
    "print(\"Dataset size:\", eff_df.shape[0])\n",
    "print(\"Test set size:\", eff_test_df.shape[0] )"
   ]
  },
  {
   "cell_type": "code",
   "execution_count": 10,
   "metadata": {},
   "outputs": [
    {
     "name": "stdout",
     "output_type": "stream",
     "text": [
      "Count: 9999\n",
      "Mean: -0.34\n",
      "Stdev: 1.22\n",
      "Median: -0.22\n",
      "Max: 2.71\n",
      "Min: -6.92\n"
     ]
    },
    {
     "data": {
      "image/png": "[encoded data removed]",
      "text/plain": [
       "<Figure size 400x300 with 1 Axes>"
      ]
     },
     "metadata": {},
     "output_type": "display_data"
    }
   ],
   "source": [
    "print_label_statistics(eff_df, 'log EC50 towards P. falciparum in nM')"
   ]
  },
  {
   "cell_type": "markdown",
   "metadata": {},
   "source": [
    "### 3. Photovoltaic Efficiency Dataset\n",
    "\n",
    "The Organic Photovoltaic Efficiency dataset is imported below, followed by train/test split and statistics review."
   ]
  },
  {
   "cell_type": "code",
   "execution_count": 11,
   "metadata": {},
   "outputs": [
    {
     "data": {
      "text/html": [
       "<div>\n",
       "<style scoped>\n",
       "    .dataframe tbody tr th:only-of-type {\n",
       "        vertical-align: middle;\n",
       "    }\n",
       "\n",
       "    .dataframe tbody tr th {\n",
       "        vertical-align: top;\n",
       "    }\n",
       "\n",
       "    .dataframe thead th {\n",
       "        text-align: right;\n",
       "    }\n",
       "</style>\n",
       "<table border=\"1\" class=\"dataframe\">\n",
       "  <thead>\n",
       "    <tr style=\"text-align: right;\">\n",
       "      <th></th>\n",
       "      <th>smiles</th>\n",
       "      <th>label</th>\n",
       "    </tr>\n",
       "  </thead>\n",
       "  <tbody>\n",
       "    <tr>\n",
       "      <th>0</th>\n",
       "      <td>c1cc2c3cocc3c3c4[SiH2]C(=Cc4ncc3c2[se]1)c1scc2...</td>\n",
       "      <td>3.596639</td>\n",
       "    </tr>\n",
       "    <tr>\n",
       "      <th>1</th>\n",
       "      <td>C1C=Cc2ncc3c4[se]c(cc4c4=C[SiH2]C=c4c3c12)-c1c...</td>\n",
       "      <td>5.993001</td>\n",
       "    </tr>\n",
       "    <tr>\n",
       "      <th>2</th>\n",
       "      <td>[nH]1c(cc2c3nsnc3c3c4ccccc4oc3c12)-c1ccco1</td>\n",
       "      <td>2.855376</td>\n",
       "    </tr>\n",
       "    <tr>\n",
       "      <th>3</th>\n",
       "      <td>[nH]1c2cc(-c3nccc4nsnc34)c3nsnc3c2c2ncc3cccnc3c12</td>\n",
       "      <td>7.611321</td>\n",
       "    </tr>\n",
       "    <tr>\n",
       "      <th>4</th>\n",
       "      <td>[nH]1c2ccc3c[nH]cc3c2c2ccc3cc(ncc3c12)-c1scc2s...</td>\n",
       "      <td>1.471250</td>\n",
       "    </tr>\n",
       "  </tbody>\n",
       "</table>\n",
       "</div>"
      ],
      "text/plain": [
       "                                              smiles     label\n",
       "0  c1cc2c3cocc3c3c4[SiH2]C(=Cc4ncc3c2[se]1)c1scc2...  3.596639\n",
       "1  C1C=Cc2ncc3c4[se]c(cc4c4=C[SiH2]C=c4c3c12)-c1c...  5.993001\n",
       "2         [nH]1c(cc2c3nsnc3c3c4ccccc4oc3c12)-c1ccco1  2.855376\n",
       "3  [nH]1c2cc(-c3nccc4nsnc34)c3nsnc3c2c2ncc3cccnc3c12  7.611321\n",
       "4  [nH]1c2ccc3c[nH]cc3c2c2ccc3cc(ncc3c12)-c1scc2s...  1.471250"
      ]
     },
     "execution_count": 11,
     "metadata": {},
     "output_type": "execute_result"
    }
   ],
   "source": [
    "pce_df = load_data(data_dir, data_file = 'cep.csv', target_name = 'PCE')\n",
    "pce_df.head()"
   ]
  },
  {
   "cell_type": "code",
   "execution_count": 12,
   "metadata": {},
   "outputs": [
    {
     "name": "stdout",
     "output_type": "stream",
     "text": [
      "Dataset size: 29978\n",
      "Test set size: 2998\n"
     ]
    }
   ],
   "source": [
    "# Splitting into train+val and test sets. Save the test set for final evaluation\n",
    "pce_train_val_df, pce_test_df = train_test_split(pce_df, test_size = test_ratio, random_state = seed)\n",
    "\n",
    "print(\"Dataset size:\", pce_df.shape[0])\n",
    "print(\"Test set size:\", pce_test_df.shape[0] )"
   ]
  },
  {
   "cell_type": "code",
   "execution_count": 13,
   "metadata": {},
   "outputs": [
    {
     "name": "stdout",
     "output_type": "stream",
     "text": [
      "Count: 29978\n",
      "Mean: 3.90\n",
      "Stdev: 2.54\n",
      "Median: 3.41\n",
      "Max: 11.09\n",
      "Min: -6.95\n"
     ]
    },
    {
     "data": {
      "image/png": "[encoded data removed]",
      "text/plain": [
       "<Figure size 400x300 with 1 Axes>"
      ]
     },
     "metadata": {},
     "output_type": "display_data"
    }
   ],
   "source": [
    "print_label_statistics(pce_df, 'Simulated photovoltaic efficiency')"
   ]
  },
  {
   "cell_type": "markdown",
   "metadata": {
    "id": "3muyDPFPbozY"
   },
   "source": [
    "##   Model\n",
    "\n",
    "The neural graph fingerprints algorithm is outlined below:\n",
    "\n",
    "**Input**: molecule, radius $R$, atom feature weights $W_1^a$, ..., $W_R^a$, neighbor feature weights $W_1^n$, ..., $W_R^n$, fingerprint weights $W_1^f$, ..., $W_{R}^f$\n",
    "\n",
    "**Initialize**: fingerprint vector $\\textbf{f}=\\textbf{0}$\n",
    "\n",
    "**for** each atom $a$ in molecule\n",
    "\n",
    "&emsp; $\\textbf{r}_a = g(a)$ &emsp; *# lookup atom features*\n",
    "\n",
    "**for** $L = 1$ to $R$ &emsp; *# for each layer*\n",
    "\n",
    "&emsp; **for** each atom $a$ in molecule\n",
    "\n",
    "&emsp;&emsp; $\\textbf{r}_1 ... \\textbf{r}_N = \\text{neighbors}(a)$\n",
    "\n",
    "&emsp;&emsp; $\\textbf{v} = W_L^a\\textbf{r}_a + W_L^n\\sum_{i=1}^N{\\textbf{r}_i}$\n",
    "\n",
    "&emsp;&emsp; $\\textbf{r}_a = \\text{ReLU}(\\textbf{v})$ &emsp; *# update atom features*\n",
    "\n",
    "&emsp;&emsp; $\\textbf{i} = \\text{Softmax} (W_L^f\\textbf{r}_a)$\n",
    "\n",
    "&emsp;&emsp; $\\textbf{f} = \\textbf{f} + \\textbf{i}$ &emsp; *# add to fingerprint*\n",
    "\n",
    "**Return**: real-valued vector $\\textbf{f}$\n",
    "\n",
    "In this algorithm:\n",
    "\n",
    "* The radius $R$ is essentially the number of layers in the neural network, where each layer extends neighbor coverage by one atom. This is why it is called the radius. In this work, I used $R = 4$.\n",
    "\n",
    "* The hidden layer dimension is set to be the same as the atom feature dimension, which in this case is 62. Thus, each atom feature weight matrix $W_L^a$ has size (62, 62). Since the bond feature vector length is 6, each neighbor feature weight matrix $W_L^n$ has size (68, 62).\n",
    "\n",
    "* The fingerprint length in the paper is set to 50. Thus, each fingerprint weight matrix $W_L^f$ has size (62, 50).\n",
    "\n",
    "* Finally, an output linear layer will map the fingerprint to a numerical value as the output for property prediction.\n",
    "\n",
    "It is noteworthy that, despite the pseudocode of the algorithm uses distinct for loops over atoms in a molecule, all atoms in the molecule are calculated simultaneously. In fact, all molecules within the same batch are handled simultaneously by the code.\n",
    "\n",
    "Lastly, there is no pretraining or simulation involved in the model. Each dataset is trained separately end-to-end."
   ]
  },
  {
   "cell_type": "markdown",
   "metadata": {},
   "source": [
    "### Model Class\n",
    "\n",
    "Because the original paper used outdated codes to build the model and perform the training, I rewrite the model codes using PyTorch. The model class built on torch.nn class module is defined below. "
   ]
  },
  {
   "cell_type": "code",
   "execution_count": 14,
   "metadata": {},
   "outputs": [],
   "source": [
    "class NeuralFingerprint(nn.Module):\n",
    "    def __init__(self, atom_feature_size, bond_feature_size, fp_length, fp_depth, degrees = (0,1,2,3,4,5)):\n",
    "        super(NeuralFingerprint, self).__init__()\n",
    "        \n",
    "        self.layers = fp_depth  # fingerprint depth is the number of layers for neural network\n",
    "        self.degrees = degrees  # degrees define how many non-H atom connect to a given atom\n",
    "        \n",
    "        # Linear layer that maps features of the atom to the next layer. Each layer has separate parameters\n",
    "        self.W_atoms = nn.ModuleList([nn.Linear(atom_feature_size, atom_feature_size) \n",
    "                                      for _ in range(self.layers)])\n",
    "        \n",
    "        # Linear layer that maps features of neighbors to the next layer. Each layer has separate parameters\n",
    "        self.W_neighbors = nn.ModuleList([nn.Linear(atom_feature_size + bond_feature_size, \n",
    "                                                    atom_feature_size, bias = False) \n",
    "                                          for _ in range(self.layers)])\n",
    "        \n",
    "        # Linear layer that maps atom features to fingerprints. Each layer has separater parameters\n",
    "        self.W_fps = nn.ModuleList([nn.Linear(atom_feature_size, fp_length) \n",
    "                                    for _ in range(self.layers)])\n",
    "        \n",
    "        # final prediction layers\n",
    "        self.W_pred = nn.Linear(fp_length, 1)\n",
    "        \n",
    "    \n",
    "    # Generates array representations for smiles, including atom features and bond features\n",
    "    # Handles a batch of smiles simultaneously\n",
    "    # The atom list and neighbors list records which atoms/bonds belong to which molecule\n",
    "    def array_rep_from_smiles(self, smiles_batch):\n",
    "        \n",
    "        molgraph = graph_from_smiles_tuple(smiles_batch)\n",
    "        arrayrep = {\n",
    "            'atom_features' : molgraph.feature_array('atom'),\n",
    "            'bond_features' : molgraph.feature_array('bond'),\n",
    "            'atom_list'     : molgraph.neighbor_list('molecule', 'atom') # List of lists\n",
    "        }\n",
    "\n",
    "        for degree in self.degrees:\n",
    "            arrayrep[('atom_neighbors', degree)] = \\\n",
    "                torch.tensor(molgraph.neighbor_list(('atom', degree), 'atom'), dtype = torch.int)\n",
    "            arrayrep[('bond_neighbors', degree)] = \\\n",
    "                torch.tensor(molgraph.neighbor_list(('atom', degree), 'bond'), dtype = torch.int)\n",
    "        return arrayrep\n",
    "\n",
    "    \n",
    "    # Helper function that finds the neighbors of each atom and multiplies them with the neighbor parameters\n",
    "    def matmult_neighbors(self, array_rep, atom_features, bond_features, layer):\n",
    "        # Sort neighbors by degrees\n",
    "        activations_by_degree = []\n",
    "        for degree in self.degrees:\n",
    "            atom_neighbors_list = array_rep[('atom_neighbors', degree)]\n",
    "            bond_neighbors_list = array_rep[('bond_neighbors', degree)]\n",
    "\n",
    "            if len(atom_neighbors_list) > 0:\n",
    "                neighbor_features = [atom_features[atom_neighbors_list],\n",
    "                                     bond_features[bond_neighbors_list]]\n",
    "\n",
    "                # dim of stacked_neighbors is (num_atoms, num_neighbors, neighbor_feature_dim)\n",
    "                stacked_neighbors = torch.cat(neighbor_features, dim=2)\n",
    "\n",
    "                # dim of summed_neighbors is (num_atoms, neighbor_feature_dim)\n",
    "                summed_neighbors = torch.sum(stacked_neighbors, dim=1)\n",
    "\n",
    "                # Apply the linear layer. Output dim is (num_atoms, atom_feature_dim)\n",
    "                activations = self.W_neighbors[layer](summed_neighbors)\n",
    "                activations_by_degree.append(activations)\n",
    "\n",
    "        # Concatenate neighbor features from all degrees. Output dim is (total_num_atoms, atom_feature_dim)\n",
    "        return torch.cat(activations_by_degree, dim=0)\n",
    "    \n",
    "    \n",
    "    # Updates the atom features based on neighbor information in each layer\n",
    "    def update_layer(self, array_rep, atom_features, bond_features, layer):\n",
    "        \n",
    "        # Apply the linear layer to the atom itself. Output dim is (num_atoms, atom_feature_dim)\n",
    "        self_activations = self.W_atoms[layer](atom_features)\n",
    "        \n",
    "        # Apply the linear layer to the neighbors. Output dim is (num_atoms, atom_feature_dim)\n",
    "        neighbour_activations = self.matmult_neighbors(array_rep, atom_features, bond_features, layer)\n",
    "\n",
    "        # Sum them up and apply ReLU activation. Output dim is (num_atoms, atom_feature_dim)\n",
    "        total_activations = neighbour_activations + self_activations\n",
    "        return torch.relu(total_activations)\n",
    "    \n",
    "    \n",
    "    # Converts atom features to fingerprints in a single layer\n",
    "    def feature_to_fp(self, array_rep, atom_features, layer):\n",
    "        \n",
    "        # Apply the linear layer followed by softmax activation. Output dim is (num_atoms, fp_dim)\n",
    "        atom_outputs = torch.softmax(self.W_fps[layer](atom_features), dim=1)\n",
    "\n",
    "        # Reorganize atoms for each molecule in the batch, and sum up fingerprints for each molecule\n",
    "        mol_outputs = [torch.sum(atom_outputs[idx_list], dim=0) for idx_list in array_rep['atom_list']]\n",
    "        \n",
    "        # Concatenate fingerprints of each molecule. Output dim is (batch_size, fp_dim)\n",
    "        layer_output = torch.cat([torch.unsqueeze(x, dim=0) for x in mol_outputs], dim=0)     \n",
    "        return layer_output\n",
    "    \n",
    "    \n",
    "    # Overall fingerprint generation function over all layers\n",
    "    def fp_generation(self, array_rep, atom_features, bond_features):\n",
    "        all_layer_fps = []\n",
    "\n",
    "        for layer in range(self.layers):\n",
    "            # For each layer, update atom features, then generate fingerprint\n",
    "            atom_features = self.update_layer(array_rep, atom_features, bond_features, layer)\n",
    "            all_layer_fps.append(self.feature_to_fp(array_rep, atom_features, layer))\n",
    "        \n",
    "        # Sum up fingerprint of each molecule from all layers. Output dim is (batch_size, fp_dim)\n",
    "        stacked_fps = torch.stack(all_layer_fps)\n",
    "        return torch.sum(stacked_fps, dim=0)\n",
    "        \n",
    "    \n",
    "    # A one-layer neural network to generate output prediction. Output dim is (batch_size, 1)\n",
    "    def output_pred(self, batch_fps):\n",
    "        return self.W_pred(batch_fps)\n",
    "\n",
    "    \n",
    "    # Forward function\n",
    "    def forward(self, smiles_batch):\n",
    "        \n",
    "        # Generate array representation of the batch of smiles, and extract initial atom and bond features\n",
    "        array_rep = self.array_rep_from_smiles(tuple(smiles_batch))\n",
    "        atom_features = array_rep['atom_features'].type(torch.float)\n",
    "        bond_features = array_rep['bond_features'].type(torch.float)\n",
    "        \n",
    "        # Calculate molecular fingerprints and then the final output\n",
    "        fingerprints = self.fp_generation(array_rep, atom_features, bond_features)\n",
    "        batch_predicted = self.output_pred(fingerprints)\n",
    "        \n",
    "        return batch_predicted\n",
    "\n",
    "    \n",
    "model = NeuralFingerprint(atom_feature_size = 62, bond_feature_size = 6, fp_length = 50, fp_depth = 4)"
   ]
  },
  {
   "cell_type": "markdown",
   "metadata": {},
   "source": [
    "### Model Training\n",
    "\n",
    "The model is trained using Atam algorithm:\n",
    "\n",
    "* Because all 3 tasks are regressions, mean squared error loss is used as the loss function\n",
    "* As a regularization, L2 loss is added. Specifically, the weight_decay argument is used to implement the L2 loss. The regularization strength is the same as the original paper, i.e., exp(-4).\n",
    "* Batch size is set to 100, and the training takes 100 epochs, both of which are the same as the original paper.\n",
    "* Training and validation error is quantified by root mean square error, which is used in the original paper.\n",
    "\n",
    "The training can be finished in several minutes using a laptop, without the need of a GPU. As a demonstration, below only shows the training for Solubility dataset."
   ]
  },
  {
   "cell_type": "code",
   "execution_count": 15,
   "metadata": {},
   "outputs": [
    {
     "name": "stdout",
     "output_type": "stream",
     "text": [
      "--- epoch: 5 ---, train loss: 22.01, train RMSE: 1.50, val RMSE: 1.49\n",
      "--- epoch: 10 ---, train loss: 11.96, train RMSE: 1.07, val RMSE: 1.15\n",
      "--- epoch: 15 ---, train loss: 9.63, train RMSE: 0.96, val RMSE: 1.12\n",
      "--- epoch: 20 ---, train loss: 9.52, train RMSE: 0.95, val RMSE: 0.82\n",
      "--- epoch: 25 ---, train loss: 8.55, train RMSE: 0.95, val RMSE: 0.99\n",
      "--- epoch: 30 ---, train loss: 6.94, train RMSE: 0.85, val RMSE: 0.89\n",
      "--- epoch: 35 ---, train loss: 8.03, train RMSE: 0.89, val RMSE: 0.81\n",
      "--- epoch: 40 ---, train loss: 7.70, train RMSE: 0.88, val RMSE: 0.88\n",
      "--- epoch: 45 ---, train loss: 6.98, train RMSE: 0.84, val RMSE: 0.78\n",
      "--- epoch: 50 ---, train loss: 9.74, train RMSE: 0.96, val RMSE: 0.78\n",
      "--- epoch: 55 ---, train loss: 6.23, train RMSE: 0.79, val RMSE: 0.84\n",
      "--- epoch: 60 ---, train loss: 8.96, train RMSE: 0.96, val RMSE: 0.86\n",
      "--- epoch: 65 ---, train loss: 6.02, train RMSE: 0.78, val RMSE: 1.01\n",
      "--- epoch: 70 ---, train loss: 5.82, train RMSE: 0.78, val RMSE: 0.69\n",
      "--- epoch: 75 ---, train loss: 5.95, train RMSE: 0.79, val RMSE: 0.71\n",
      "--- epoch: 80 ---, train loss: 6.38, train RMSE: 0.75, val RMSE: 1.09\n",
      "--- epoch: 85 ---, train loss: 6.35, train RMSE: 0.81, val RMSE: 0.75\n",
      "--- epoch: 90 ---, train loss: 5.84, train RMSE: 0.76, val RMSE: 0.65\n",
      "--- epoch: 95 ---, train loss: 4.74, train RMSE: 0.71, val RMSE: 0.84\n",
      "--- epoch: 100 ---, train loss: 5.42, train RMSE: 0.73, val RMSE: 0.77\n"
     ]
    }
   ],
   "source": [
    "batch_size = 100\n",
    "num_epoch = 100\n",
    "L2_reg = np.exp(-4)\n",
    "step_size = np.exp(-6)\n",
    "\n",
    "# MSE loss as the loss function\n",
    "criterion = nn.MSELoss()\n",
    "\n",
    "# Adam optimizer with L2 regularization\n",
    "optimizer = torch.optim.Adam(model.parameters(), lr = step_size, weight_decay = L2_reg)\n",
    "\n",
    "# Records training losses, training and validation errors per epoch\n",
    "train_losses = []\n",
    "train_rmses = []\n",
    "val_rmses = []\n",
    "\n",
    "\n",
    "for epoch in range(num_epoch):\n",
    "    \"\"\" model training \"\"\"\n",
    "    \n",
    "    # Split to training and validation sets randomly\n",
    "    train_df, val_df = train_test_split(sol_train_val_df, test_size = val_ratio, random_state = seed + epoch)\n",
    "    \n",
    "    model.train()\n",
    "    \n",
    "    train_loss = 0\n",
    "    pred_list, label_list = [], []\n",
    "    \n",
    "    # Loop over batches\n",
    "    for i in range(0, train_df.shape[0], batch_size):\n",
    "        batch_df = train_df.iloc[i: i+batch_size]\n",
    "        smiles_batch = batch_df[\"smiles\"].tolist()\n",
    "        label = torch.FloatTensor(batch_df[\"label\"].tolist())\n",
    "        \n",
    "        # feed smiles into the model\n",
    "        pred = model.forward(smiles_batch).squeeze(1)\n",
    "        \n",
    "        # Calculate loss\n",
    "        loss = criterion(pred, label)\n",
    "        \n",
    "        # Backpropagation\n",
    "        optimizer.zero_grad()\n",
    "        loss.backward()\n",
    "        \n",
    "        # Update parameters\n",
    "        optimizer.step()\n",
    "        \n",
    "        # Accumulate training loss\n",
    "        train_loss += loss.item()\n",
    "        \n",
    "        pred_list.append(pred)\n",
    "        label_list.append(label)\n",
    "    \n",
    "    # Record training error as RMSE\n",
    "    train_error = root_mean_squared_error(torch.cat(label_list).detach(), torch.cat(pred_list).detach())\n",
    "    train_rmses.append(train_error)\n",
    "    \n",
    "    # Record training loss\n",
    "    train_losses.append(train_loss)\n",
    "    \n",
    "    \"\"\" model evaluation \"\"\"\n",
    "    model.eval()\n",
    "    pred_list, label_list = [], []\n",
    "    \n",
    "    with torch.no_grad():\n",
    "        # Loop over batches\n",
    "        for i in range(0, val_df.shape[0], batch_size):\n",
    "            batch_df = val_df.iloc[i: i+batch_size]\n",
    "            smiles_batch = batch_df[\"smiles\"].tolist()\n",
    "            label = torch.FloatTensor(batch_df[\"label\"].tolist())\n",
    "            \n",
    "            # feed features into the model\n",
    "            pred = model.forward(smiles_batch).squeeze(1)\n",
    "            pred_list.append(pred)\n",
    "            label_list.append(label)\n",
    "        \n",
    "        # Record validation error as RMSE\n",
    "        val_error = root_mean_squared_error(torch.cat(label_list), torch.cat(pred_list))\n",
    "        val_rmses.append(val_error)\n",
    "    \n",
    "    # Print loss and errors every 5 epochs\n",
    "    if (epoch+1) % 5 == 0:\n",
    "        print (f\"--- epoch: {epoch+1} ---, train loss: {train_loss:.2f}, train RMSE: {train_error:.2f}, val RMSE: {val_error:.2f}\")"
   ]
  },
  {
   "cell_type": "markdown",
   "metadata": {
    "id": "gX6bCcZNuxmz"
   },
   "source": [
    "# Results\n",
    "\n",
    "## Training Results\n",
    "\n",
    "To plot training results, we define two plotting functions for training loss and training/validation errors:"
   ]
  },
  {
   "cell_type": "code",
   "execution_count": 16,
   "metadata": {},
   "outputs": [],
   "source": [
    "# Plot training loss over iterations\n",
    "def plot_train_loss(train_losses):\n",
    "    epochs = list(range(1, len(train_losses) + 1))\n",
    "    plt.figure(figsize=(4, 3))\n",
    "    plt.plot(epochs, train_losses, marker='', linestyle='-')\n",
    "    plt.title('Training loss over the number of training epochs')\n",
    "    plt.xlabel('Epoch')\n",
    "    plt.ylabel('Training loss')\n",
    "    plt.grid(True)\n",
    "    plt.show()\n",
    "\n",
    "# Plot training and validation error over iterations\n",
    "def plot_train_val_error(train_err, val_err):\n",
    "    epochs = list(range(1, len(train_losses) + 1))\n",
    "    plt.figure(figsize=(4, 3))\n",
    "    plt.plot(epochs, train_err, marker='', linestyle='-', label = \"Train RMSE\")\n",
    "    plt.plot(epochs, val_err, marker='', linestyle='-', label = \"Val RMSE\")\n",
    "    plt.title('RMSE over the number of training epochs')\n",
    "    plt.xlabel('Epoch')\n",
    "    plt.ylabel('RMSE')\n",
    "    plt.grid(True)\n",
    "    plt.legend()\n",
    "    plt.show()"
   ]
  },
  {
   "cell_type": "markdown",
   "metadata": {},
   "source": [
    "The training loss is plotted below. The loss decrease plateaus after about 40 epochs."
   ]
  },
  {
   "cell_type": "code",
   "execution_count": 17,
   "metadata": {},
   "outputs": [
    {
     "data": {
      "image/png": "[encoded data removed]",
      "text/plain": [
       "<Figure size 400x300 with 1 Axes>"
      ]
     },
     "metadata": {},
     "output_type": "display_data"
    }
   ],
   "source": [
    "plot_train_loss(train_losses)"
   ]
  },
  {
   "cell_type": "markdown",
   "metadata": {},
   "source": [
    "The training and validation errors as RMSE are plotted below. The errors also plateau after about 40 epochs, indicating that the training may be stopped earlier. In addition, the training and validation errors stay close, indicating minimal overfitting."
   ]
  },
  {
   "cell_type": "code",
   "execution_count": 18,
   "metadata": {},
   "outputs": [
    {
     "data": {
      "image/png": "[encoded data removed]",
      "text/plain": [
       "<Figure size 400x300 with 1 Axes>"
      ]
     },
     "metadata": {},
     "output_type": "display_data"
    }
   ],
   "source": [
    "plot_train_val_error(train_rmses, val_rmses)"
   ]
  },
  {
   "cell_type": "markdown",
   "metadata": {},
   "source": [
    "## Performance on Test Set\n",
    "\n",
    "The trained model is applied on the test set to get the final model performance as root mean square error (RMSE) between true labels and predicted outcomes, which is the same as the original paper. According to the paper, the RMSE on the Solubility dataset reaches 0.52, which is better than the current version of the reproducibility."
   ]
  },
  {
   "cell_type": "code",
   "execution_count": 19,
   "metadata": {},
   "outputs": [
    {
     "name": "stdout",
     "output_type": "stream",
     "text": [
      "RMSE on the test set: 0.79\n"
     ]
    }
   ],
   "source": [
    "model.eval()\n",
    "    \n",
    "with torch.no_grad():\n",
    "    smiles_test = sol_test_df[\"smiles\"].tolist()\n",
    "    label_test = torch.FloatTensor(sol_test_df[\"label\"].tolist())\n",
    "\n",
    "    # feed features into the model\n",
    "    pred_test = model.forward(smiles_test).squeeze(1)\n",
    "\n",
    "    # Calculate test error as RMSE\n",
    "    test_error = root_mean_squared_error(label_test, pred_test)\n",
    "\n",
    "print(f\"RMSE on the test set: {test_error:.2f}\")"
   ]
  },
  {
   "cell_type": "markdown",
   "metadata": {},
   "source": [
    "# Plans\n",
    "\n",
    "So far, the model is successfully rewritten using PyTorch, and the training and evaluation can be smoothly run. However, the preliminary reproduction result has not reached the performance that the paper reported. It is hypothesized that, when the training environment changes from mostly self-implemented codes by the authors to PyTorch, some hyperparameters may no longer be optimal, such as learning rate, L2 penalty strength, hidden layer size, and etc.\n",
    "\n",
    "Moreover, another important factor could be the initial weight scale. As the authors mention in the paper, large initial parameters perform similarly to the circular fingerprints method (previous method) while small initial parameters are the key to improve performance.\n",
    "\n",
    "Therefore, the plans to finish the replication study will include:\n",
    "\n",
    "1. Fine-tune hyperparameters, especially the initial weight scale, to reach a better performance, aiming at reproducing the results reported in the original paper.\n",
    "\n",
    "2. Finish the model training and evaluation on the other two datasets and make comparisons to the reported results.\n",
    "\n",
    "3. Continue to finish the testing of Hypothesis 2 and Ablation studies based on the built model architecture.\n",
    "\n"
   ]
  },
  {
   "cell_type": "code",
   "execution_count": 20,
   "metadata": {
    "id": "LjW9bCkouv8O"
   },
   "outputs": [],
   "source": [
    "# metrics to evaluate my model\n",
    "\n",
    "# plot figures to better show the results\n",
    "\n",
    "# it is better to save the numbers and figures for your presentation."
   ]
  },
  {
   "cell_type": "markdown",
   "metadata": {
    "id": "8EAWAy_LwHlV"
   },
   "source": [
    "## Model comparison"
   ]
  },
  {
   "cell_type": "code",
   "execution_count": 21,
   "metadata": {
    "id": "uOdhGrbwwG71"
   },
   "outputs": [],
   "source": [
    "# compare you model with others\n",
    "# you don't need to re-run all other experiments, instead, you can directly refer the metrics/numbers in the paper"
   ]
  },
  {
   "cell_type": "markdown",
   "metadata": {
    "id": "qH75TNU71eRH"
   },
   "source": [
    "# Discussion\n",
    "\n",
    "In this section,you should discuss your work and make future plan. The discussion should address the following questions:\n",
    "  * Make assessment that the paper is reproducible or not.\n",
    "  * Explain why it is not reproducible if your results are kind negative.\n",
    "  * Describe “What was easy” and “What was difficult” during the reproduction.\n",
    "  * Make suggestions to the author or other reproducers on how to improve the reproducibility.\n",
    "  * What will you do in next phase.\n",
    "\n"
   ]
  },
  {
   "cell_type": "code",
   "execution_count": 22,
   "metadata": {
    "id": "E2VDXo5F4Frm"
   },
   "outputs": [
    {
     "data": {
      "text/plain": [
       "'\\nif you want to use an image outside this notebook for explanaition,\\nyou can read and plot it here like the Scope of Reproducibility\\n'"
      ]
     },
     "execution_count": 22,
     "metadata": {},
     "output_type": "execute_result"
    }
   ],
   "source": [
    "# no code is required for this section\n",
    "'''\n",
    "if you want to use an image outside this notebook for explanaition,\n",
    "you can read and plot it here like the Scope of Reproducibility\n",
    "'''"
   ]
  },
  {
   "cell_type": "markdown",
   "metadata": {
    "id": "SHMI2chl9omn"
   },
   "source": [
    "# References\n",
    "\n",
    "1. Duvenaud D. K., Maclaurin D., Iparraguirre J., Bombarell R., Hirzel T., Aspuru-Guzik A. and Adams R. P. (2015) Convolutional networks on graphs for learning molecular fingerprints. *Advances in Neural Information Processing Systems*, 2224-2232.\n",
    "\n",
    "2. Rogers D. and Hahn M. (2010) Extended-connectivity fingerprints. *Journal of Chemical Information and Modeling*, 50(5): 742-754.\n",
    "\n",
    "3. Delaney J. S. (2004) ESOL:Estimating aqueous solubility directly from molecular structure. *Journal of Chemical Information and Computer Sciences*, 44(3): 1000–1005.\n",
    "\n",
    "4. Gamo F.-J., Sanz L. M., Vidal J., de Cozar C., Alvarez E., Lavandera J.-L., Vanderwall D. E., Green D. V. S., Kumar V., Hasan S., Brown J. R., Peishoff C. E., Cardon L. R. and Garcia-Bustos J. F. (2010) Thousands of chemical starting points for antimalarial lead identification. *Nature*, 465(7296): 305–310.\n",
    "\n",
    "5. Hachmann J., Olivares-Amaya R., Atahan-Evrenk S., Amador-Bedolla C., Sánchez-Carrera R. S., Gold-Parker A., Vogt L., Brockway A. M. and Aspuru-Guzik A. (2011) *The Journal of Physical Chemistry Letters*, 2(17): 2241–2251."
   ]
  },
  {
   "cell_type": "markdown",
   "metadata": {
    "id": "xmVuzQ724HbO"
   },
   "source": [
    "# Feel free to add new sections"
   ]
  }
 ],
 "metadata": {
  "colab": {
   "private_outputs": true,
   "provenance": [],
   "toc_visible": true
  },
  "kernelspec": {
   "display_name": "Python 3 (ipykernel)",
   "language": "python",
   "name": "python3"
  },
  "language_info": {
   "codemirror_mode": {
    "name": "ipython",
    "version": 3
   },
   "file_extension": ".py",
   "mimetype": "text/x-python",
   "name": "python",
   "nbconvert_exporter": "python",
   "pygments_lexer": "ipython3",
   "version": "3.11.4"
  }
 },
 "nbformat": 4,
 "nbformat_minor": 1
}
